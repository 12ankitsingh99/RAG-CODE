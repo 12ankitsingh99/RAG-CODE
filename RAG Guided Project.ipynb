{
 "cells": [
  {
   "cell_type": "markdown",
   "id": "9d71aa35-c1bb-499d-bc41-f42014288bc7",
   "metadata": {},
   "source": [
    "## Problem Statement\n",
    "Developing a Medical Research Assistant Using Retrieval-Augmented Generation (RAG)\n",
    "\n",
    "#### Objective:\n",
    "To create a Retrieval-Augmented Generation (RAG) application that functions as a medical research assistant, capable of answering complex medical questions using information retrieved from medical encyclopedia."
   ]
  },
  {
   "cell_type": "code",
   "execution_count": 1,
   "id": "ae53fd8f-d185-44e4-87dc-8035ee361225",
   "metadata": {},
   "outputs": [],
   "source": [
    "import chromadb\n",
    "\n",
    "from langchain.text_splitter import RecursiveCharacterTextSplitter, SentenceTransformersTokenTextSplitter\n",
    "import numpy as np\n",
    "from pypdf import PdfReader\n",
    "from tqdm import tqdm\n",
    "def word_wrap(string, n_chars=72):\n",
    "    # Wrap a string at the next space after n_chars\n",
    "    if len(string) < n_chars:\n",
    "        return string\n",
    "    else:\n",
    "        return string[:n_chars].rsplit(' ', 1)[0] + '\\n' + word_wrap(string[len(string[:n_chars].rsplit(' ', 1)[0])+1:], n_chars)\n"
   ]
  },
  {
   "cell_type": "code",
   "execution_count": 2,
   "id": "ef60e278-4d47-4b6e-8c9e-254a71d7e28e",
   "metadata": {},
   "outputs": [
    {
     "name": "stdout",
     "output_type": "stream",
     "text": [
      "TheGALE\n",
      "ENCYCLOPEDIA\n",
      "ofMEDICINE\n",
      "SECOND EDITION\n"
     ]
    }
   ],
   "source": [
    "from pypdf import PdfReader\n",
    "\n",
    "reader = PdfReader(\"Encyclopedia of Medicine.pdf\")\n",
    "pdf_texts = [p.extract_text().strip() for p in reader.pages]\n",
    "\n",
    "# Filter the empty strings\n",
    "pdf_texts = [text for text in pdf_texts if text]\n",
    "\n",
    "print(word_wrap(pdf_texts[0]))"
   ]
  },
  {
   "cell_type": "code",
   "execution_count": null,
   "id": "b8717897-22b8-4914-a767-a4378c775a05",
   "metadata": {},
   "outputs": [],
   "source": []
  },
  {
   "cell_type": "code",
   "execution_count": 3,
   "id": "8864169f-04db-4af1-9632-1a765d82e1fa",
   "metadata": {},
   "outputs": [
    {
     "name": "stdout",
     "output_type": "stream",
     "text": [
      "individuals are highlighted as sidebar biographies thataccompany the\n",
      "main topical essays. Articles follow astandardized format that provides\n",
      "information at aglance. Rubrics include:\n",
      "Disorders/Conditions\n",
      "Tests/Treatments\n",
      "Definition Definition\n",
      "Description Purpose\n",
      "Causes and\n",
      "symptoms Precautions\n",
      "Diagnosis DescriptionTreatment\n",
      "Preparation\n",
      "Alternative treatment Aftercare\n",
      "Prognosis Risks\n",
      "Prevention\n",
      "Normal/Abnormal results\n",
      "Resources ResourcesKey terms Key terms\n",
      "In\n",
      "recent years there has been a resurgence of interest\n",
      "in holistic\n",
      "medicine that emphasizes the connectionbetween mind and body. Aimed at\n",
      "achieving and main-taining good health rather than just eliminating\n",
      "disease,this approach has come to be known as alternative medi-\n",
      "cine.\n",
      "The Gale Encyclopedia of Medicine 2 includes a\n",
      "\n",
      "Total chunks: 999\n"
     ]
    }
   ],
   "source": [
    "from langchain.text_splitter import RecursiveCharacterTextSplitter, SentenceTransformersTokenTextSplitter\n",
    "character_splitter = RecursiveCharacterTextSplitter(\n",
    "    separators=[\"\\n\\n\", \"\\n\", \". \", \" \", \"\"],\n",
    "    chunk_size=1000,\n",
    "    chunk_overlap=0\n",
    ")\n",
    "character_split_texts = character_splitter.split_text('\\n\\n'.join(pdf_texts))\n",
    "\n",
    "print(word_wrap(character_split_texts[10]))\n",
    "print(f\"\\nTotal chunks: {len(character_split_texts)}\")"
   ]
  },
  {
   "cell_type": "code",
   "execution_count": 4,
   "id": "663b766b-854c-4b08-b553-598a57a016c2",
   "metadata": {},
   "outputs": [
    {
     "name": "stdout",
     "output_type": "stream",
     "text": [
      "chantability or fitness for a particular purpose, nor does itguarantee\n",
      "the accuracy, comprehensiveness, or timelinessof the information\n",
      "contained in this product. readersshould be aware that the universe of\n",
      "medical knowledgeis constantly growing and changing, and that\n",
      "differencesof medical opinion exist among authorities. readers arealso\n",
      "advised to seek professional diagnosis and treatmentfor any medical\n",
      "condition, and to discuss informationobtained from this book with their\n",
      "health care provider. gale encyclopedia of medicine 2 viiplease read —\n",
      "important information\n",
      "\n",
      "Total chunks: 1059\n"
     ]
    }
   ],
   "source": [
    "token_splitter = SentenceTransformersTokenTextSplitter(chunk_overlap=0, tokens_per_chunk=256)\n",
    "\n",
    "token_split_texts = []\n",
    "for text in character_split_texts:\n",
    "    token_split_texts += token_splitter.split_text(text)\n",
    "\n",
    "print(word_wrap(token_split_texts[10]))\n",
    "print(f\"\\nTotal chunks: {len(token_split_texts)}\")"
   ]
  },
  {
   "cell_type": "code",
   "execution_count": 5,
   "id": "6c4be50b-ab3a-4937-a90d-43686b70689a",
   "metadata": {},
   "outputs": [],
   "source": [
    "import chromadb\n",
    "from chromadb.utils.embedding_functions import SentenceTransformerEmbeddingFunction\n",
    "\n",
    "embedding_function = SentenceTransformerEmbeddingFunction()\n",
    "#print(embedding_function([token_split_texts[10]]))"
   ]
  },
  {
   "cell_type": "code",
   "execution_count": 6,
   "id": "b6f40c1f-d04e-4d09-bccd-ae3afcae0b8a",
   "metadata": {},
   "outputs": [
    {
     "data": {
      "text/plain": [
       "1059"
      ]
     },
     "execution_count": 6,
     "metadata": {},
     "output_type": "execute_result"
    }
   ],
   "source": [
    "chroma_client = chromadb.Client()\n",
    "chroma_collection = chroma_client.create_collection(\"info_medical\", embedding_function=embedding_function)\n",
    "\n",
    "ids = [str(i) for i in range(len(token_split_texts))]\n",
    "\n",
    "chroma_collection.add(ids=ids, documents=token_split_texts)\n",
    "chroma_collection.count()"
   ]
  },
  {
   "cell_type": "code",
   "execution_count": 7,
   "id": "4c11edda-9b9b-4406-8043-74bd34349388",
   "metadata": {},
   "outputs": [
    {
     "name": "stdout",
     "output_type": "stream",
     "text": [
      "sure the presence of viral nucleic acids in the patient ’ sblood even\n",
      "when there is no detectable antibody to hiv. this test works by\n",
      "amplifying the presence of hiv nucle - ic acids in a blood sample.\n",
      "numerous copies of a gene aremade by separating the two strands of dna\n",
      "containingthe gene segment, marking its location, using dna poly -\n",
      "merase to make a copy, and then continuously replicatingthe copies. it\n",
      "is questionable whether pcr will replacewestern blotting as the method\n",
      "of confirming aids diag - noses. although pcr can detect the low number\n",
      "of per - sons ( 1 % ) with hiv infections that have not yet generatedan\n",
      "antibody response to the virus, the overwhelmingmajority of infected\n",
      "persons will be detected by elisascreening within one to three months\n",
      "of infection. inaddition, pcr testing is based on present knowledge\n",
      "ofthe genetic sequences in hiv\n",
      "\n",
      "\n",
      "is sometimes used to confirm elisa results instead ofwestern blotting.\n",
      "an ifa test detects the presence ofhiv antibody in a sample of the\n",
      "patient ’ s serum by mix - ing hiv antigen with a fluorescent chemical,\n",
      "adding theblood sample, and observing the reaction under a micro -\n",
      "scope with ultraviolet light. polymerase chain reaction ( pcr ). this\n",
      "test is used to evaluate the very small number of aids patientswith\n",
      "false - negative elisa and western blot tests. thesepatients are\n",
      "sometimes called antibody - negative asympto - matic ( without symptoms\n",
      ") carriers, because they do nothave any symptoms of aids and there is\n",
      "no detectablequantity of antibody in the blood serum. antibody - nega -\n",
      "tive asymptomatic carriers may be responsible for thevery low ongoing\n",
      "risk of hiv infection transmitted byblood transfusions. it is estimated\n",
      "that the risk is between1 in 10, 000 and 1 in 100, 000 units of\n",
      "transfused blood. the polymerase chain reaction ( pcr ) test can mea -\n",
      "\n",
      "\n",
      "monocyte — a large white blood cell that is formed in the bone marrow\n",
      "and spleen. about 4 % of thewhite blood cells in normal adults are\n",
      "monocytes. opportunistic infection — an infection that devel - ops only\n",
      "when a person ’ s immune system is weak - ened, as happens to aids\n",
      "patients. polymerase chain reaction ( pcr ) — a test performed to\n",
      "evaluate false - negative results to the elisa andwestern blot tests.\n",
      "in pcr testing, numerous copiesof a gene are made by separating the two\n",
      "strands ofdna containing the gene segment, marking itslocation, using\n",
      "dna polymerase to make a copy, and then continuously replicating the\n",
      "copies. theamplification of gene sequences that are associatedwith hiv\n",
      "allows for detection of the virus by thismethod. retrovirus — a virus\n",
      "that contains a unique enzyme called reverse transcriptase that allows\n",
      "it to repli - cate within new host cells. seroconversion — the change\n",
      "from hiv - negative to\n",
      "\n",
      "\n",
      ". since the virus is continual - ly generating new variants, pcr\n",
      "testing could yield afalse negative in patients with these new\n",
      "variants. in 1999, the u. s. food and drug administration\n",
      "\n",
      "\n",
      "accurate in detecting hiv infection within four to eight weeks\n",
      "following exposure. the polymerase chain reac - tion ( pcr ) test can\n",
      "be used to detect the presence of viralnucleic acids in the very small\n",
      "number of hiv patientswho have false - negative results on the elisa\n",
      "and west - ern blot tests. these tests are also used to detect\n",
      "virusesand bacterium other than hiv and aids. other laboratory tests.\n",
      "in addition to diagnos - tic blood tests, there are other blood tests\n",
      "that are used totrack the course of aids in patients that have\n",
      "alreadybeen diagnosed. these include blood counts, viral loadtests, p24\n",
      "antigen assays, and measurements of / h9252 2 - microglobulin ( /\n",
      "h92522m ). doctors will use a wide variety of tests to diagnose the\n",
      "presence of opportunistic infections, cancers, or other dis - ease\n",
      "conditions in aids patients. tissue biopsies, samples ofcerebrospinal\n",
      "fluid, and sophisticated imaging techniques, such as magnetic resonance\n",
      "imaging ( mri ) and computed\n",
      "\n",
      "\n"
     ]
    }
   ],
   "source": [
    "# \n",
    "query = \"What is PCR ?\"\n",
    "\n",
    "results = chroma_collection.query(query_texts=[query], n_results=5)\n",
    "retrieved_documents = results['documents'][0]\n",
    "\n",
    "for document in retrieved_documents:\n",
    "    print(word_wrap(document))\n",
    "    print('\\n')"
   ]
  },
  {
   "cell_type": "markdown",
   "id": "fba743b6-e62a-4e01-843c-7c94566f6ee8",
   "metadata": {},
   "source": [
    "## Generation With Cohere LLM"
   ]
  },
  {
   "cell_type": "code",
   "execution_count": 25,
   "id": "630a2f3a-55af-41c3-af25-1361f9f842e6",
   "metadata": {},
   "outputs": [],
   "source": [
    "import cohere\n",
    "co = cohere.Client('YOUR API KEY') # Create your trial API key on Cohere.com and replace it with \"YOUR API KEY\""
   ]
  },
  {
   "cell_type": "code",
   "execution_count": 26,
   "id": "b788411d-2b4e-47ab-9f65-3fa717f83809",
   "metadata": {},
   "outputs": [],
   "source": [
    "def rag(query, retrieved_documents, model=\"command\"):\n",
    "    information = \"\\n\\n\".join(retrieved_documents)\n",
    "\n",
    "    messages = [\n",
    "        {\n",
    "            \"role\": \"system\",\n",
    "            \"content\": \"You are a helpful expert medical research assistant. Your users are asking questions about information contained in an annual report.\"\n",
    "            \"You will be shown the user's question, and the relevant information from encyclopedia of medicine. Answer the user's question using only this information.\"\n",
    "        },\n",
    "        {\"role\": \"user\", \"content\": f\"Question: {query}. \\n Information: {information}\"}\n",
    "    ]\n",
    "\n",
    "    response = co.chat(\n",
    "        model=model,\n",
    "        message=\"What is PCR ?\",\n",
    "        documents=messages\n",
    "    )\n",
    "\n",
    "    return response"
   ]
  },
  {
   "cell_type": "code",
   "execution_count": 27,
   "id": "4e61af2d-9b46-4c0a-955f-f98a38f7ce83",
   "metadata": {},
   "outputs": [
    {
     "name": "stdout",
     "output_type": "stream",
     "text": [
      "Polymerase chain reaction (PCR) is a test performed to evaluate false-negative results to the elisa and western blot tests. This test works by amplifying the presence of HIV nucleic acids in a blood sample. Numerous copies of a gene are made by separating the two strands of DNA containing the gene segment, marking its location, using DNA polymerase to make a copy, and then continuously replicating the copies. This allows for the detection of the virus.\n"
     ]
    }
   ],
   "source": [
    "output = rag(query=query, retrieved_documents=retrieved_documents)\n",
    "\n",
    "print((output.text))"
   ]
  },
  {
   "cell_type": "markdown",
   "id": "2af833a2-c503-4f05-8765-2bb830acdbbc",
   "metadata": {},
   "source": [
    "# Gradio UI"
   ]
  },
  {
   "cell_type": "markdown",
   "id": "0cbf05fc-5fb6-452f-8e19-a3768fafb8b8",
   "metadata": {},
   "source": [
    "Gradio is an open-source Python library that allows you to quickly create user-friendly web interfaces for machine learning models, APIs, and data science workflows. With Gradio, you can build interactive demos and web applications with minimal code. It provides a simple way to create UI components such as text inputs, sliders, buttons, and more, which can be linked to your functions or machine learning models.\r\n",
    "\r\n",
    "### Key Features of Gradio:\r\n",
    "1. **Easy to Use**: Gradio is designed to be easy to use, requiring minimal code to create interactive interfaces.\r\n",
    "2. **Real-time Interactions**: Allows users to interact with machine learning models or functions in real-time.\r\n",
    "3. **Wide Range of Components**: Provides various input and output components such as textboxes, sliders, dropdowns, images, and more.\r\n",
    "4. **Automatic Hosting**: Gradio automatically hosts your interface on a local server, and you can also share it with others via a public link.\r\n",
    "5. **Integration with Notebooks**: Works seamlessly with Jupyter Notebooks and other Python environments.\r\n",
    "6. **Customizability**: Offers customization options for the interface, including layout, styling, ao documentation](https://gradio.app/docs/)."
   ]
  },
  {
   "cell_type": "code",
   "execution_count": 1,
   "id": "de2126ed-1672-4e0d-a468-6508961d0dfa",
   "metadata": {},
   "outputs": [
    {
     "name": "stdout",
     "output_type": "stream",
     "text": [
      "Running on local URL:  http://127.0.0.1:7860\n",
      "IMPORTANT: You are using gradio version 3.45.2, however version 4.29.0 is available, please upgrade.\n",
      "--------\n",
      "\n",
      "To create a public link, set `share=True` in `launch()`.\n"
     ]
    },
    {
     "data": {
      "text/html": [
       "<div><iframe src=\"http://127.0.0.1:7860/\" width=\"100%\" height=\"500\" allow=\"autoplay; camera; microphone; clipboard-read; clipboard-write;\" frameborder=\"0\" allowfullscreen></iframe></div>"
      ],
      "text/plain": [
       "<IPython.core.display.HTML object>"
      ]
     },
     "metadata": {},
     "output_type": "display_data"
    },
    {
     "data": {
      "text/plain": []
     },
     "execution_count": 1,
     "metadata": {},
     "output_type": "execute_result"
    }
   ],
   "source": [
    "### Here's a simple example to demonstrate how Gradio works:\n",
    "\n",
    "\n",
    "import gradio as gr\n",
    "\n",
    "def greet(name):\n",
    "    return f\"Hello, {name}!\"\n",
    "\n",
    "# Create a Gradio interface\n",
    "iface = gr.Interface(fn=greet, \n",
    "                     inputs=gr.Textbox(lines=2, placeholder=\"Enter your name...\"), \n",
    "                     outputs=\"text\",\n",
    "                     title=\"Greeting App\",\n",
    "                     description=\"Enter your name and get a greeting!\")\n",
    "\n",
    "# Launch the interface\n",
    "iface.launch()"
   ]
  },
  {
   "cell_type": "markdown",
   "id": "10bd8987-03a3-4a04-81a0-aab516918840",
   "metadata": {},
   "source": [
    "### Explanation of the Example:\n",
    "1. **Function Definition**: `greet` function takes a name as input and returns a greeting message.\n",
    "2. **Interface Creation**: \n",
    "    - `gr.Interface` is used to create the interface.\n",
    "    - `fn=greet`: Specifies the function to be called.\n",
    "    - `inputs`: Defines the input component (a textbox in this case).\n",
    "    - `outputs`: Defines the output component (text in this case).\n",
    "    - `title` and `description`: Provide a title and description for the interface.\n",
    "3. **Launching the Interface**: `iface.launch()` starts the interface, which will be hosted on a local server.\n",
    "\n",
    "For more information, you can visit the [Gradio documentation](https://gradio.app/docs/)."
   ]
  },
  {
   "cell_type": "code",
   "execution_count": null,
   "id": "4b0c1832-d90b-4b67-b0d1-16a265245ce1",
   "metadata": {},
   "outputs": [],
   "source": []
  },
  {
   "cell_type": "markdown",
   "id": "e15ca272-6348-405c-ac95-8eb10fbb54e4",
   "metadata": {},
   "source": [
    "# Medical Research Assistant UI"
   ]
  },
  {
   "cell_type": "code",
   "execution_count": 13,
   "id": "28aa1f31-273b-4e5e-95d5-b00103e1342b",
   "metadata": {},
   "outputs": [
    {
     "name": "stdout",
     "output_type": "stream",
     "text": [
      "Running on local URL:  http://127.0.0.1:7881\n",
      "IMPORTANT: You are using gradio version 3.45.2, however version 4.29.0 is available, please upgrade.\n",
      "--------\n",
      "\n",
      "To create a public link, set `share=True` in `launch()`.\n"
     ]
    },
    {
     "data": {
      "text/html": [
       "<div><iframe src=\"http://127.0.0.1:7881/\" width=\"100%\" height=\"500\" allow=\"autoplay; camera; microphone; clipboard-read; clipboard-write;\" frameborder=\"0\" allowfullscreen></iframe></div>"
      ],
      "text/plain": [
       "<IPython.core.display.HTML object>"
      ]
     },
     "metadata": {},
     "output_type": "display_data"
    },
    {
     "data": {
      "text/plain": []
     },
     "execution_count": 13,
     "metadata": {},
     "output_type": "execute_result"
    }
   ],
   "source": [
    "import cohere\n",
    "import gradio as gr\n",
    "import chromadb  # Ensure this import is available for chroma_collection\n",
    "\n",
    "# Initialize the Cohere client\n",
    "co = cohere.Client('')  # This is your trial API key\n",
    "\n",
    "# Assume chroma_collection is properly initialized\n",
    "# chroma_collection = ...\n",
    "\n",
    "# Define the RAG function\n",
    "def rag(query, retrieved_documents, model=\"command\"):\n",
    "    information = \"\\n\\n\".join(retrieved_documents)\n",
    "    print(\"Retrieved Documents: \", retrieved_documents)\n",
    "\n",
    "    messages = [\n",
    "        {\n",
    "            \"role\": \"system\",\n",
    "            \"content\": (\"You are a helpful expert medical research assistant. Your users are asking questions \"\n",
    "                        \"about information contained in an encyclopedia of medicine. You will be shown the user's question, \"\n",
    "                        \"and the relevant information from encyclopedia of medicine. Answer the user's question \"\n",
    "                        \"using only this information.\")\n",
    "        },\n",
    "        {\"role\": \"user\", \"content\": f\"Question: {query}. \\n Information: {information}\"}\n",
    "    ]\n",
    "\n",
    "    response = co.chat(\n",
    "        model=model,\n",
    "        documents=messages,\n",
    "        message=query, # Corrected to 'messages' instead of 'message'\n",
    "    )\n",
    "\n",
    "    return response.text  # Adjust to extract the text from the response\n",
    "\n",
    "# Define the chatbot function\n",
    "def chatbot(query):\n",
    "    try:\n",
    "        # Query Chroma to get retrieved documents\n",
    "        results = chroma_collection.query(query_texts=[query], n_results=5)\n",
    "        retrieved_documents = results['documents'][0]\n",
    "        \n",
    "        # Debug: print retrieved documents\n",
    "        #print(\"Retrieved Documents: \", retrieved_documents)\n",
    "        \n",
    "        # Call the RAG function\n",
    "        response = rag(query, retrieved_documents)\n",
    "        source_text = \"\\n\\n\".join(retrieved_documents)  # Combine the retrieved documents as source text\n",
    "        return response, source_text\n",
    "    except Exception as e:\n",
    "        # Debug: print exception details\n",
    "        print(\"Error: \", e)\n",
    "        return str(e), \"\"\n",
    "\n",
    "# Set up the Gradio interface\n",
    "iface = gr.Interface(\n",
    "    fn=chatbot,  # Pass the user query to the chatbot function\n",
    "    inputs=gr.Textbox(lines=2, placeholder=\"Ask a medical question...\"),\n",
    "    outputs=[\n",
    "        gr.Textbox(label=\"Response\", lines=4),\n",
    "        gr.Textbox(label=\"Source Text\", lines=10)\n",
    "    ],\n",
    "    title=\"Medical Research Assistant\",\n",
    "    description=\"Ask any medical-related question, and I will provide answers based on the relevant information.\"\n",
    ")\n",
    "\n",
    "# Launch the Gradio interface\n",
    "iface.launch()\n"
   ]
  },
  {
   "cell_type": "code",
   "execution_count": null,
   "id": "1265d2e1-0eff-453f-9062-d1c915fff5ae",
   "metadata": {},
   "outputs": [],
   "source": []
  }
 ],
 "metadata": {
  "kernelspec": {
   "display_name": "Python 3 (ipykernel)",
   "language": "python",
   "name": "python3"
  },
  "language_info": {
   "codemirror_mode": {
    "name": "ipython",
    "version": 3
   },
   "file_extension": ".py",
   "mimetype": "text/x-python",
   "name": "python",
   "nbconvert_exporter": "python",
   "pygments_lexer": "ipython3",
   "version": "3.11.4"
  }
 },
 "nbformat": 4,
 "nbformat_minor": 5
}
