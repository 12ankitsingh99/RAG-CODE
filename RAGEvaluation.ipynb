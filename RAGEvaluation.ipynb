{
 "cells": [
  {
   "cell_type": "markdown",
   "id": "64058bd0-b4ea-47e0-a59a-b6c6b39bd48d",
   "metadata": {},
   "source": [
    "## RAG Evaluation"
   ]
  },
  {
   "cell_type": "code",
   "execution_count": 4,
   "id": "82c4ffbd-db3c-4dee-95a9-06430d7012d5",
   "metadata": {},
   "outputs": [],
   "source": [
    "# Uncomment the following line if you need to initialize FAISS with no AVX2 optimization\n",
    "# os.environ['FAISS_NO_AVX2'] = '1'\n",
    "\n",
    "from langchain_community.document_loaders import TextLoader\n",
    "from langchain_community.vectorstores import FAISS\n",
    "from langchain_huggingface import HuggingFaceEmbeddings\n",
    "\n",
    "from langchain_text_splitters import CharacterTextSplitter\n",
    "\n",
    "loader = TextLoader(\"state_of_the_union.txt\")\n",
    "documents = loader.load()\n",
    "text_splitter = CharacterTextSplitter(chunk_size=1000, chunk_overlap=0)\n",
    "docs = text_splitter.split_documents(documents)"
   ]
  },
  {
   "cell_type": "code",
   "execution_count": 5,
   "id": "95930501-4a10-4b56-9bc8-e91a0fac5c16",
   "metadata": {},
   "outputs": [],
   "source": [
    "from langchain.text_splitter import RecursiveCharacterTextSplitter\n",
    "\n",
    "text_splitter = RecursiveCharacterTextSplitter(\n",
    "    separators=[\"\\n\\n\",\"\\n\", \" \"],\n",
    "    chunk_size = 1000,\n",
    "    chunk_overlap = 10,\n",
    "    is_separator_regex=False\n",
    ")\n",
    "\n",
    "chunk_list = text_splitter.create_documents(texts=[docs[0].page_content])"
   ]
  },
  {
   "cell_type": "code",
   "execution_count": 6,
   "id": "17be8466-0ab4-4854-8f8f-ccae7c087faf",
   "metadata": {},
   "outputs": [
    {
     "name": "stdout",
     "output_type": "stream",
     "text": [
      "45\n"
     ]
    }
   ],
   "source": [
    "embeddings =  HuggingFaceEmbeddings()\n",
    "db = FAISS.from_documents(chunk_list, embeddings)\n",
    "print(db.index.ntotal)"
   ]
  },
  {
   "cell_type": "code",
   "execution_count": 9,
   "id": "61d6aec1-073d-4e6f-91d1-5180b7bed657",
   "metadata": {},
   "outputs": [],
   "source": [
    "query =\"What did the president say about gun violence?\"\n",
    "docs = db.similarity_search(query)"
   ]
  },
  {
   "cell_type": "code",
   "execution_count": 10,
   "id": "7c13510d-2a2e-4f09-a377-340fc05706ae",
   "metadata": {},
   "outputs": [
    {
     "data": {
      "text/plain": [
       "[Document(page_content='violence interruption trusted messengers breaking the cycle of violence and trauma and giving young people hope.  \",\"\",\"We should all agree: The answer is not to Defund the police. The answer is to FUND the police with the resources and training they need to protect our communities. \",\"\",\"I ask Democrats and Republicans alike: Pass my budget and keep our neighborhoods safe.  \",\"\",\"And I will keep doing everything in my power to crack down on gun trafficking and ghost guns you can buy online and make at home they have no serial numbers and can t be traced. \",\"\",\"And I ask Congress to pass proven measures to reduce gun violence. Pass universal background checks. Why should anyone on a terrorist list be able to purchase a weapon? \",\"\",\"Ban assault weapons and high-capacity magazines. \",\"\",\"Repeal the liability shield that makes gun manufacturers the only industry in America that can t be sued. \",\"\",\"These laws don t infringe on the Second Amendment. They save lives. \",\"\",\"The most'),\n",
       " Document(page_content='continue vaccinating the world.     \",\"\",\"We ve sent 475 Million vaccine doses to 112 countries, more than any other nation. \",\"\",\"And we won t stop. \",\"\",\"We have lost so much to COVID-19. Time with one another. And worst of all, so much loss of life. \",\"\",\"Let s use this moment to reset. Let s stop looking at COVID-19 as a partisan dividing line and see it for what it is: A God-awful disease.  \",\"\",\"Let s stop seeing each other as enemies, and start seeing each other for who we really are: Fellow Americans.  \",\"\",\"We can t change how divided we ve been. But we can change how we move forward on COVID-19 and other issues we must face together. \",\"\",\"I recently visited the New York City Police Department days after the funerals of Officer Wilbert Mora and his partner, Officer Jason Rivera. \",\"\",\"They were responding to a 9-1-1 call when a man shot and killed them with a stolen gun. \",\"\",\"Officer Mora was 27 years old. \",\"\",\"Officer Rivera was 22. \",\"\",\"Both Dominican Americans who d'),\n",
       " Document(page_content='grow the economy and lower costs for families. \",\"\",\"So what are we waiting for? Let s get this done. And while you re at it, confirm my nominees to the Federal Reserve, which plays a critical role in fighting inflation.  \",\"\",\"My plan will not only lower costs to give families a fair shot, it will lower the deficit. \",\"\",\"The previous Administration not only ballooned the deficit with tax cuts for the very wealthy and corporations, it undermined the watchdogs whose job was to keep pandemic relief funds from being wasted. \",\"\",\"But in my administration, the watchdogs have been welcomed back. \",\"\",\"We re going after the criminals who stole billions in relief money meant for small businesses and millions of Americans.  \",\"\",\"And tonight, I m announcing that the Justice Department will name a chief prosecutor for pandemic fraud. \",\"\",\"By the end of this year, the deficit will be down to less than half what it was before I took office.  \",\"\",\"The only president ever to cut the deficit by'),\n",
       " Document(page_content='who d grown up on the same streets they later chose to patrol as police officers. \",\"\",\"I spoke with their families and told them that we are forever in debt for their sacrifice, and we will carry on their mission to restore the trust and safety every community deserves. \",\"\",\"I ve worked on these issues a long time. \",\"\",\"I know what works: Investing in crime preventionand community police officers who ll walk the beat, who ll know the neighborhood, and who can restore trust and safety. \",\"\",\"So let s not abandon our streets. Or choose between safety and equal justice. \",\"\",\"Let s come together to protect our communities, restore trust, and hold law enforcement accountable. \",\"\",\"That s why the Justice Department required body cameras, banned chokeholds, and restricted no-knock warrants for its officers. \",\"\",\"That s why the American Rescue Plan provided $350 Billion that cities, states, and counties can use to hire more police and invest in proven strategies like community violence')]"
      ]
     },
     "execution_count": 10,
     "metadata": {},
     "output_type": "execute_result"
    }
   ],
   "source": [
    "docs "
   ]
  },
  {
   "cell_type": "code",
   "execution_count": 11,
   "id": "0980a8c4-c471-48fd-a510-6044471a2b77",
   "metadata": {},
   "outputs": [],
   "source": [
    "retriever = db.as_retriever()"
   ]
  },
  {
   "cell_type": "code",
   "execution_count": 12,
   "id": "71cd8304-069c-435a-8222-ce56a255a5e5",
   "metadata": {},
   "outputs": [],
   "source": [
    "#!pip install -U langchain-community langchain-cohere"
   ]
  },
  {
   "cell_type": "code",
   "execution_count": 13,
   "id": "cfc81852-6389-4300-b961-79c787aae412",
   "metadata": {},
   "outputs": [],
   "source": [
    "from langchain_openai import AzureChatOpenAI\n",
    "\n",
    "llm = AzureChatOpenAI(\n",
    "    azure_deployment=\"gpt35turbo16kdeployment\",\n",
    "    api_version=\"2024-05-01-preview\",\n",
    "    api_key=\"-------------------------\", #PUT YOUR API KEY HERE\n",
    "    temperature=0,\n",
    "    max_tokens=None,\n",
    "    timeout=None,\n",
    "    max_retries=2,\n",
    "    # other params...\n",
    ")"
   ]
  },
  {
   "cell_type": "code",
   "execution_count": 20,
   "id": "1d41ffdf-6963-4103-902f-1250a2049c68",
   "metadata": {},
   "outputs": [],
   "source": [
    "from langchain.chains import RetrievalQA\n",
    "qa = RetrievalQA.from_chain_type(llm=llm, chain_type=\"stuff\", retriever= db.as_retriever(search_kwargs={\"k\":2}), return_source_documents=True)"
   ]
  },
  {
   "cell_type": "code",
   "execution_count": 21,
   "id": "d0c2c361-6b52-4061-ab4b-d8e01bf35113",
   "metadata": {},
   "outputs": [],
   "source": [
    "response = qa(\"What did the president say about gun violence?\")\n"
   ]
  },
  {
   "cell_type": "code",
   "execution_count": 22,
   "id": "84915f0b-6916-41b9-8320-6d6088fbc5e0",
   "metadata": {},
   "outputs": [
    {
     "data": {
      "text/plain": [
       "'The president said that he will do everything in his power to crack down on gun trafficking and ghost guns. He also asked Congress to pass measures such as universal background checks, banning assault weapons and high-capacity magazines, and repealing the liability shield for gun manufacturers. He emphasized that these laws do not infringe on the Second Amendment but rather save lives.'"
      ]
     },
     "execution_count": 22,
     "metadata": {},
     "output_type": "execute_result"
    }
   ],
   "source": [
    "response['result']"
   ]
  },
  {
   "cell_type": "markdown",
   "id": "e3467711-929a-43b0-876d-7c6c323bef88",
   "metadata": {},
   "source": [
    "## Ragas For RAG Evaluation"
   ]
  },
  {
   "cell_type": "markdown",
   "id": "79c94317-956b-4a03-9777-c4525f28337a",
   "metadata": {},
   "source": [
    "### Creating dataset"
   ]
  },
  {
   "cell_type": "markdown",
   "id": "8c0a1b3b-d8f5-4d89-9ca6-579fa339cfa8",
   "metadata": {},
   "source": [
    "##### Creating QA pairs"
   ]
  },
  {
   "cell_type": "code",
   "execution_count": 35,
   "id": "4feeb314-c54e-45db-9894-89610e50f210",
   "metadata": {},
   "outputs": [],
   "source": [
    "from datasets import Dataset\n",
    "questions = [\n",
    "    \"What did last year’s American Rescue Plan accomplish?\",\n",
    "    \"What did the president say about Intel ?\",\n",
    "    \"What did the president say about gun violence?\"]\n",
    "\n",
    "ground_truths = [\n",
    "    \"The American Rescue Plan provided economic relief, helped vaccinate the nation, and created over 6.5 million new jobs.\",\n",
    "    \"The president said that Pat Gelsinger is ready to increase Intel's investment to $100 billion.\",\n",
    "     \"The president asked Congress to pass proven measures to reduce gun violence.\"]\n"
   ]
  },
  {
   "cell_type": "markdown",
   "id": "55c87851-28ab-4466-8f76-848f251f2838",
   "metadata": {},
   "source": [
    "##### Querying the LLM for Retrieval Augmented Generations and fetching contexts used"
   ]
  },
  {
   "cell_type": "code",
   "execution_count": 36,
   "id": "facb3b15-6928-4f76-b8e8-b5a1f56268bd",
   "metadata": {
    "scrolled": true
   },
   "outputs": [
    {
     "name": "stdout",
     "output_type": "stream",
     "text": [
      "Query: What did last year’s American Rescue Plan accomplish?\n",
      "Answer: {'query': 'What did last year’s American Rescue Plan accomplish?', 'result': \"Last year's American Rescue Plan accomplished several things. It provided immediate economic relief for millions of Americans, helping them with food, housing, and healthcare costs. It also played a crucial role in the nation's vaccination efforts and combating the COVID-19 pandemic. Additionally, the plan created over 6.5 million new jobs, leading to significant job growth. The economy grew at a rate of 5.7%, the strongest in nearly 40 years. Overall, the American Rescue Plan aimed to address the economic challenges faced by working people and provide them with some breathing room.\", 'source_documents': [Document(page_content='breathing room. \",\"\",\"And unlike the $2 Trillion tax cut passed in the previous administration that benefitted the top 1% of Americans, the American Rescue Plan helped working people and left no one behind. \",\"\",\"And it worked. It created jobs. Lots of jobs. \",\"\",\"In fact our economy created over 6.5 Million new jobs just last year, more jobs created in one year  \",\"than ever before in the history of America. \",\"\",\"Our economy grew at a rate of 5.7% last year, the strongest growth in nearly 40 years, the first step in bringing fundamental change to an economy that hasn t worked for the working people of this nation for too long.  \",\"\",\"For the past 40 years we were told that if we gave tax breaks to those at the very top, the benefits would trickle down to everyone else. \",\"\",\"But that trickle-down theory led to weaker economic growth, lower wages, bigger deficits, and the widest gap between those at the top and everyone else in nearly a century. \",\"\",\"Vice President Harris and I ran'), Document(page_content='years this nation has ever faced. \",\"\",\"The pandemic has been punishing. \",\"\",\"And so many families are living paycheck to paycheck, struggling to keep up with the rising cost of food, gas, housing, and so much more. \",\"\",\"I understand. \",\"\",\"I remember when my Dad had to leave our home in Scranton, Pennsylvania to find work. I grew up in a family where if the price of food went up, you felt it. \",\"\",\"That s why one of the first things I did as President was fight to pass the American Rescue Plan.  \",\"\",\"Because people were hurting. We needed to act, and we did. \",\"\",\"Few pieces of legislation have done more in a critical moment in our history to lift us out of crisis. \",\"\",\"It fueled our efforts to vaccinate the nation and combat COVID-19. It delivered immediate economic relief for tens of millions of Americans.  \",\"\",\"Helped put food on their table, keep a roof over their heads, and cut the cost of health insurance. \",\"\",\"And as my Dad used to say, it gave people a little breathing')]}\n",
      "Retrieved Docs: [Document(page_content='breathing room. \",\"\",\"And unlike the $2 Trillion tax cut passed in the previous administration that benefitted the top 1% of Americans, the American Rescue Plan helped working people and left no one behind. \",\"\",\"And it worked. It created jobs. Lots of jobs. \",\"\",\"In fact our economy created over 6.5 Million new jobs just last year, more jobs created in one year  \",\"than ever before in the history of America. \",\"\",\"Our economy grew at a rate of 5.7% last year, the strongest growth in nearly 40 years, the first step in bringing fundamental change to an economy that hasn t worked for the working people of this nation for too long.  \",\"\",\"For the past 40 years we were told that if we gave tax breaks to those at the very top, the benefits would trickle down to everyone else. \",\"\",\"But that trickle-down theory led to weaker economic growth, lower wages, bigger deficits, and the widest gap between those at the top and everyone else in nearly a century. \",\"\",\"Vice President Harris and I ran'), Document(page_content='years this nation has ever faced. \",\"\",\"The pandemic has been punishing. \",\"\",\"And so many families are living paycheck to paycheck, struggling to keep up with the rising cost of food, gas, housing, and so much more. \",\"\",\"I understand. \",\"\",\"I remember when my Dad had to leave our home in Scranton, Pennsylvania to find work. I grew up in a family where if the price of food went up, you felt it. \",\"\",\"That s why one of the first things I did as President was fight to pass the American Rescue Plan.  \",\"\",\"Because people were hurting. We needed to act, and we did. \",\"\",\"Few pieces of legislation have done more in a critical moment in our history to lift us out of crisis. \",\"\",\"It fueled our efforts to vaccinate the nation and combat COVID-19. It delivered immediate economic relief for tens of millions of Americans.  \",\"\",\"Helped put food on their table, keep a roof over their heads, and cut the cost of health insurance. \",\"\",\"And as my Dad used to say, it gave people a little breathing'), Document(page_content='opioid epidemic. \",\"\",\"There is so much we can do. Increase funding for prevention, treatment, harm reduction, and recovery.  \",\"\",\"Get rid of outdated rules that stop doctors from prescribing treatments. And stop the flow of illicit drugs by working with state and local law enforcement to go after traffickers. \",\"\",\"If you re suffering from addiction, know you are not alone. I believe in recovery, and I celebrate the 23 million Americans in recovery. \",\"\",\"Second, let s take on mental health. Especially among our children, whose lives and education have been turned upside down.  \",\"\",\"The American Rescue Plan gave schools money to hire teachers and help students make up for lost learning.  \",\"\",\"I urge every parent to make sure your school does just that. And we can all play a part sign up to be a tutor or a mentor. \",\"\",\"Children were also struggling before the pandemic. Bullying, violence, trauma, and the harms of social media. \",\"\",\"As Frances Haugen, who is here with us tonight,'), Document(page_content='who d grown up on the same streets they later chose to patrol as police officers. \",\"\",\"I spoke with their families and told them that we are forever in debt for their sacrifice, and we will carry on their mission to restore the trust and safety every community deserves. \",\"\",\"I ve worked on these issues a long time. \",\"\",\"I know what works: Investing in crime preventionand community police officers who ll walk the beat, who ll know the neighborhood, and who can restore trust and safety. \",\"\",\"So let s not abandon our streets. Or choose between safety and equal justice. \",\"\",\"Let s come together to protect our communities, restore trust, and hold law enforcement accountable. \",\"\",\"That s why the Justice Department required body cameras, banned chokeholds, and restricted no-knock warrants for its officers. \",\"\",\"That s why the American Rescue Plan provided $350 Billion that cities, states, and counties can use to hire more police and invest in proven strategies like community violence')]\n",
      "Context Texts: ['breathing room. \",\"\",\"And unlike the $2 Trillion tax cut passed in the previous administration that benefitted the top 1% of Americans, the American Rescue Plan helped working people and left no one behind. \",\"\",\"And it worked. It created jobs. Lots of jobs. \",\"\",\"In fact our economy created over 6.5 Million new jobs just last year, more jobs created in one year  \",\"than ever before in the history of America. \",\"\",\"Our economy grew at a rate of 5.7% last year, the strongest growth in nearly 40 years, the first step in bringing fundamental change to an economy that hasn t worked for the working people of this nation for too long.  \",\"\",\"For the past 40 years we were told that if we gave tax breaks to those at the very top, the benefits would trickle down to everyone else. \",\"\",\"But that trickle-down theory led to weaker economic growth, lower wages, bigger deficits, and the widest gap between those at the top and everyone else in nearly a century. \",\"\",\"Vice President Harris and I ran years this nation has ever faced. \",\"\",\"The pandemic has been punishing. \",\"\",\"And so many families are living paycheck to paycheck, struggling to keep up with the rising cost of food, gas, housing, and so much more. \",\"\",\"I understand. \",\"\",\"I remember when my Dad had to leave our home in Scranton, Pennsylvania to find work. I grew up in a family where if the price of food went up, you felt it. \",\"\",\"That s why one of the first things I did as President was fight to pass the American Rescue Plan.  \",\"\",\"Because people were hurting. We needed to act, and we did. \",\"\",\"Few pieces of legislation have done more in a critical moment in our history to lift us out of crisis. \",\"\",\"It fueled our efforts to vaccinate the nation and combat COVID-19. It delivered immediate economic relief for tens of millions of Americans.  \",\"\",\"Helped put food on their table, keep a roof over their heads, and cut the cost of health insurance. \",\"\",\"And as my Dad used to say, it gave people a little breathing opioid epidemic. \",\"\",\"There is so much we can do. Increase funding for prevention, treatment, harm reduction, and recovery.  \",\"\",\"Get rid of outdated rules that stop doctors from prescribing treatments. And stop the flow of illicit drugs by working with state and local law enforcement to go after traffickers. \",\"\",\"If you re suffering from addiction, know you are not alone. I believe in recovery, and I celebrate the 23 million Americans in recovery. \",\"\",\"Second, let s take on mental health. Especially among our children, whose lives and education have been turned upside down.  \",\"\",\"The American Rescue Plan gave schools money to hire teachers and help students make up for lost learning.  \",\"\",\"I urge every parent to make sure your school does just that. And we can all play a part sign up to be a tutor or a mentor. \",\"\",\"Children were also struggling before the pandemic. Bullying, violence, trauma, and the harms of social media. \",\"\",\"As Frances Haugen, who is here with us tonight, who d grown up on the same streets they later chose to patrol as police officers. \",\"\",\"I spoke with their families and told them that we are forever in debt for their sacrifice, and we will carry on their mission to restore the trust and safety every community deserves. \",\"\",\"I ve worked on these issues a long time. \",\"\",\"I know what works: Investing in crime preventionand community police officers who ll walk the beat, who ll know the neighborhood, and who can restore trust and safety. \",\"\",\"So let s not abandon our streets. Or choose between safety and equal justice. \",\"\",\"Let s come together to protect our communities, restore trust, and hold law enforcement accountable. \",\"\",\"That s why the Justice Department required body cameras, banned chokeholds, and restricted no-knock warrants for its officers. \",\"\",\"That s why the American Rescue Plan provided $350 Billion that cities, states, and counties can use to hire more police and invest in proven strategies like community violence']\n",
      "Query: What did the president say about Intel ?\n",
      "Answer: {'query': 'What did the president say about Intel ?', 'result': \"The president mentioned that Intel, the American company that helped build Silicon Valley, is planning to build a $20 billion semiconductor mega site. He also mentioned that Intel's CEO is ready to increase their investment from $20 billion to $100 billion, which would be one of the biggest investments in manufacturing in American history. The president urged the audience to pass a bill to support Intel's plans.\", 'source_documents': [Document(page_content='won t look like much, but if you stop and look closely, you ll see a  Field of dreams,  the ground on which America s future will be built. \",\"\",\"This is where Intel, the American company that helped build Silicon Valley, is going to build its $20 billion semiconductor  mega site . \",\"\",\"Up to eight state-of-the-art factories in one place. 10,000 new good-paying jobs. \",\"\",\"Some of the most sophisticated manufacturing in the world to make computer chips the size of a fingertip that power the world and our everyday lives. \",\"\",\"Smartphones. The Internet. Technology we have yet to invent. \",\"\",\"But that s just the beginning. \",\"\",\"Intel s CEO, Pat Gelsinger, who is here tonight, told me they are ready to increase their investment from  \",\"$20 billion to $100 billion. \",\"\",\"That would be one of the biggest investments in manufacturing in American history. \",\"\",\"And all they re waiting for is for you to pass this bill. \",\"\",\"So let s not wait any longer. Send it to my desk. I ll sign it.'), Document(page_content='a foreign country, has costs around the world. \",\"\",\"And I m taking robust action to make sure the pain of our sanctions  is targeted at Russia s economy. And I will use every tool at our disposal to protect American businesses and consumers. \",\"\",\"Tonight, I can announce that the United States has worked with 30 other countries to release 60 Million barrels of oil from reserves around the world.  \",\"\",\"America will lead that effort, releasing 30 Million barrels from our own Strategic Petroleum Reserve. And we stand ready to do more if necessary, unified with our allies.  \",\"\",\"These steps will help blunt gas prices here at home. And I know the news about what s happening can seem alarming. \",\"\",\"But I want you to know that we are going to be okay. \",\"\",\"When the history of this era is written Putin s war on Ukraine will have left Russia weaker and the rest of the world stronger. \",\"\",\"While it shouldn t have taken something so terrible for people around the world to see what s at')]}\n",
      "Retrieved Docs: [Document(page_content='won t look like much, but if you stop and look closely, you ll see a  Field of dreams,  the ground on which America s future will be built. \",\"\",\"This is where Intel, the American company that helped build Silicon Valley, is going to build its $20 billion semiconductor  mega site . \",\"\",\"Up to eight state-of-the-art factories in one place. 10,000 new good-paying jobs. \",\"\",\"Some of the most sophisticated manufacturing in the world to make computer chips the size of a fingertip that power the world and our everyday lives. \",\"\",\"Smartphones. The Internet. Technology we have yet to invent. \",\"\",\"But that s just the beginning. \",\"\",\"Intel s CEO, Pat Gelsinger, who is here tonight, told me they are ready to increase their investment from  \",\"$20 billion to $100 billion. \",\"\",\"That would be one of the biggest investments in manufacturing in American history. \",\"\",\"And all they re waiting for is for you to pass this bill. \",\"\",\"So let s not wait any longer. Send it to my desk. I ll sign it.'), Document(page_content='a foreign country, has costs around the world. \",\"\",\"And I m taking robust action to make sure the pain of our sanctions  is targeted at Russia s economy. And I will use every tool at our disposal to protect American businesses and consumers. \",\"\",\"Tonight, I can announce that the United States has worked with 30 other countries to release 60 Million barrels of oil from reserves around the world.  \",\"\",\"America will lead that effort, releasing 30 Million barrels from our own Strategic Petroleum Reserve. And we stand ready to do more if necessary, unified with our allies.  \",\"\",\"These steps will help blunt gas prices here at home. And I know the news about what s happening can seem alarming. \",\"\",\"But I want you to know that we are going to be okay. \",\"\",\"When the history of this era is written Putin s war on Ukraine will have left Russia weaker and the rest of the world stronger. \",\"\",\"While it shouldn t have taken something so terrible for people around the world to see what s at'), Document(page_content='grow the economy and lower costs for families. \",\"\",\"So what are we waiting for? Let s get this done. And while you re at it, confirm my nominees to the Federal Reserve, which plays a critical role in fighting inflation.  \",\"\",\"My plan will not only lower costs to give families a fair shot, it will lower the deficit. \",\"\",\"The previous Administration not only ballooned the deficit with tax cuts for the very wealthy and corporations, it undermined the watchdogs whose job was to keep pandemic relief funds from being wasted. \",\"\",\"But in my administration, the watchdogs have been welcomed back. \",\"\",\"We re going after the criminals who stole billions in relief money meant for small businesses and millions of Americans.  \",\"\",\"And tonight, I m announcing that the Justice Department will name a chief prosecutor for pandemic fraud. \",\"\",\"By the end of this year, the deficit will be down to less than half what it was before I took office.  \",\"\",\"The only president ever to cut the deficit by'), Document(page_content='of the 21st Century that we face with the rest of the world particularly with China.  \",\"\",\"As I ve told Xi Jinping, it is never a good bet to bet against the American people. \",\"\",\"We ll create good jobs for millions of Americans, modernizing roads, airports, ports, and waterways all across America. \",\"\",\"And we ll do it all to withstand the devastating effects of the climate crisis and promote environmental justice. \",\"\",\"We ll build a national network of 500,000 electric vehicle charging stations, begin to replace poisonous lead pipes so every child and every American has clean water to drink at home and at school, provide affordable high-speed internet for every American urban, suburban, rural, and tribal communities. \",\"\",\"4,000 projects have already been announced. \",\"\",\"And tonight, I m announcing that this year we will start fixing over 65,000 miles of highway and 1,500 bridges in disrepair. \",\"\",\"When we use taxpayer dollars to rebuild America   we are going to Buy American:')]\n",
      "Context Texts: ['won t look like much, but if you stop and look closely, you ll see a  Field of dreams,  the ground on which America s future will be built. \",\"\",\"This is where Intel, the American company that helped build Silicon Valley, is going to build its $20 billion semiconductor  mega site . \",\"\",\"Up to eight state-of-the-art factories in one place. 10,000 new good-paying jobs. \",\"\",\"Some of the most sophisticated manufacturing in the world to make computer chips the size of a fingertip that power the world and our everyday lives. \",\"\",\"Smartphones. The Internet. Technology we have yet to invent. \",\"\",\"But that s just the beginning. \",\"\",\"Intel s CEO, Pat Gelsinger, who is here tonight, told me they are ready to increase their investment from  \",\"$20 billion to $100 billion. \",\"\",\"That would be one of the biggest investments in manufacturing in American history. \",\"\",\"And all they re waiting for is for you to pass this bill. \",\"\",\"So let s not wait any longer. Send it to my desk. I ll sign it. a foreign country, has costs around the world. \",\"\",\"And I m taking robust action to make sure the pain of our sanctions  is targeted at Russia s economy. And I will use every tool at our disposal to protect American businesses and consumers. \",\"\",\"Tonight, I can announce that the United States has worked with 30 other countries to release 60 Million barrels of oil from reserves around the world.  \",\"\",\"America will lead that effort, releasing 30 Million barrels from our own Strategic Petroleum Reserve. And we stand ready to do more if necessary, unified with our allies.  \",\"\",\"These steps will help blunt gas prices here at home. And I know the news about what s happening can seem alarming. \",\"\",\"But I want you to know that we are going to be okay. \",\"\",\"When the history of this era is written Putin s war on Ukraine will have left Russia weaker and the rest of the world stronger. \",\"\",\"While it shouldn t have taken something so terrible for people around the world to see what s at grow the economy and lower costs for families. \",\"\",\"So what are we waiting for? Let s get this done. And while you re at it, confirm my nominees to the Federal Reserve, which plays a critical role in fighting inflation.  \",\"\",\"My plan will not only lower costs to give families a fair shot, it will lower the deficit. \",\"\",\"The previous Administration not only ballooned the deficit with tax cuts for the very wealthy and corporations, it undermined the watchdogs whose job was to keep pandemic relief funds from being wasted. \",\"\",\"But in my administration, the watchdogs have been welcomed back. \",\"\",\"We re going after the criminals who stole billions in relief money meant for small businesses and millions of Americans.  \",\"\",\"And tonight, I m announcing that the Justice Department will name a chief prosecutor for pandemic fraud. \",\"\",\"By the end of this year, the deficit will be down to less than half what it was before I took office.  \",\"\",\"The only president ever to cut the deficit by of the 21st Century that we face with the rest of the world particularly with China.  \",\"\",\"As I ve told Xi Jinping, it is never a good bet to bet against the American people. \",\"\",\"We ll create good jobs for millions of Americans, modernizing roads, airports, ports, and waterways all across America. \",\"\",\"And we ll do it all to withstand the devastating effects of the climate crisis and promote environmental justice. \",\"\",\"We ll build a national network of 500,000 electric vehicle charging stations, begin to replace poisonous lead pipes so every child and every American has clean water to drink at home and at school, provide affordable high-speed internet for every American urban, suburban, rural, and tribal communities. \",\"\",\"4,000 projects have already been announced. \",\"\",\"And tonight, I m announcing that this year we will start fixing over 65,000 miles of highway and 1,500 bridges in disrepair. \",\"\",\"When we use taxpayer dollars to rebuild America   we are going to Buy American:']\n",
      "Query: What did the president say about gun violence?\n",
      "Answer: {'query': 'What did the president say about gun violence?', 'result': 'The president said that he will do everything in his power to crack down on gun trafficking and ghost guns. He also asked Congress to pass measures such as universal background checks, banning assault weapons and high-capacity magazines, and repealing the liability shield for gun manufacturers. He emphasized that these laws do not infringe on the Second Amendment but rather save lives.', 'source_documents': [Document(page_content='violence interruption trusted messengers breaking the cycle of violence and trauma and giving young people hope.  \",\"\",\"We should all agree: The answer is not to Defund the police. The answer is to FUND the police with the resources and training they need to protect our communities. \",\"\",\"I ask Democrats and Republicans alike: Pass my budget and keep our neighborhoods safe.  \",\"\",\"And I will keep doing everything in my power to crack down on gun trafficking and ghost guns you can buy online and make at home they have no serial numbers and can t be traced. \",\"\",\"And I ask Congress to pass proven measures to reduce gun violence. Pass universal background checks. Why should anyone on a terrorist list be able to purchase a weapon? \",\"\",\"Ban assault weapons and high-capacity magazines. \",\"\",\"Repeal the liability shield that makes gun manufacturers the only industry in America that can t be sued. \",\"\",\"These laws don t infringe on the Second Amendment. They save lives. \",\"\",\"The most'), Document(page_content='continue vaccinating the world.     \",\"\",\"We ve sent 475 Million vaccine doses to 112 countries, more than any other nation. \",\"\",\"And we won t stop. \",\"\",\"We have lost so much to COVID-19. Time with one another. And worst of all, so much loss of life. \",\"\",\"Let s use this moment to reset. Let s stop looking at COVID-19 as a partisan dividing line and see it for what it is: A God-awful disease.  \",\"\",\"Let s stop seeing each other as enemies, and start seeing each other for who we really are: Fellow Americans.  \",\"\",\"We can t change how divided we ve been. But we can change how we move forward on COVID-19 and other issues we must face together. \",\"\",\"I recently visited the New York City Police Department days after the funerals of Officer Wilbert Mora and his partner, Officer Jason Rivera. \",\"\",\"They were responding to a 9-1-1 call when a man shot and killed them with a stolen gun. \",\"\",\"Officer Mora was 27 years old. \",\"\",\"Officer Rivera was 22. \",\"\",\"Both Dominican Americans who d')]}\n",
      "Retrieved Docs: [Document(page_content='violence interruption trusted messengers breaking the cycle of violence and trauma and giving young people hope.  \",\"\",\"We should all agree: The answer is not to Defund the police. The answer is to FUND the police with the resources and training they need to protect our communities. \",\"\",\"I ask Democrats and Republicans alike: Pass my budget and keep our neighborhoods safe.  \",\"\",\"And I will keep doing everything in my power to crack down on gun trafficking and ghost guns you can buy online and make at home they have no serial numbers and can t be traced. \",\"\",\"And I ask Congress to pass proven measures to reduce gun violence. Pass universal background checks. Why should anyone on a terrorist list be able to purchase a weapon? \",\"\",\"Ban assault weapons and high-capacity magazines. \",\"\",\"Repeal the liability shield that makes gun manufacturers the only industry in America that can t be sued. \",\"\",\"These laws don t infringe on the Second Amendment. They save lives. \",\"\",\"The most'), Document(page_content='continue vaccinating the world.     \",\"\",\"We ve sent 475 Million vaccine doses to 112 countries, more than any other nation. \",\"\",\"And we won t stop. \",\"\",\"We have lost so much to COVID-19. Time with one another. And worst of all, so much loss of life. \",\"\",\"Let s use this moment to reset. Let s stop looking at COVID-19 as a partisan dividing line and see it for what it is: A God-awful disease.  \",\"\",\"Let s stop seeing each other as enemies, and start seeing each other for who we really are: Fellow Americans.  \",\"\",\"We can t change how divided we ve been. But we can change how we move forward on COVID-19 and other issues we must face together. \",\"\",\"I recently visited the New York City Police Department days after the funerals of Officer Wilbert Mora and his partner, Officer Jason Rivera. \",\"\",\"They were responding to a 9-1-1 call when a man shot and killed them with a stolen gun. \",\"\",\"Officer Mora was 27 years old. \",\"\",\"Officer Rivera was 22. \",\"\",\"Both Dominican Americans who d'), Document(page_content='grow the economy and lower costs for families. \",\"\",\"So what are we waiting for? Let s get this done. And while you re at it, confirm my nominees to the Federal Reserve, which plays a critical role in fighting inflation.  \",\"\",\"My plan will not only lower costs to give families a fair shot, it will lower the deficit. \",\"\",\"The previous Administration not only ballooned the deficit with tax cuts for the very wealthy and corporations, it undermined the watchdogs whose job was to keep pandemic relief funds from being wasted. \",\"\",\"But in my administration, the watchdogs have been welcomed back. \",\"\",\"We re going after the criminals who stole billions in relief money meant for small businesses and millions of Americans.  \",\"\",\"And tonight, I m announcing that the Justice Department will name a chief prosecutor for pandemic fraud. \",\"\",\"By the end of this year, the deficit will be down to less than half what it was before I took office.  \",\"\",\"The only president ever to cut the deficit by'), Document(page_content='who d grown up on the same streets they later chose to patrol as police officers. \",\"\",\"I spoke with their families and told them that we are forever in debt for their sacrifice, and we will carry on their mission to restore the trust and safety every community deserves. \",\"\",\"I ve worked on these issues a long time. \",\"\",\"I know what works: Investing in crime preventionand community police officers who ll walk the beat, who ll know the neighborhood, and who can restore trust and safety. \",\"\",\"So let s not abandon our streets. Or choose between safety and equal justice. \",\"\",\"Let s come together to protect our communities, restore trust, and hold law enforcement accountable. \",\"\",\"That s why the Justice Department required body cameras, banned chokeholds, and restricted no-knock warrants for its officers. \",\"\",\"That s why the American Rescue Plan provided $350 Billion that cities, states, and counties can use to hire more police and invest in proven strategies like community violence')]\n",
      "Context Texts: ['violence interruption trusted messengers breaking the cycle of violence and trauma and giving young people hope.  \",\"\",\"We should all agree: The answer is not to Defund the police. The answer is to FUND the police with the resources and training they need to protect our communities. \",\"\",\"I ask Democrats and Republicans alike: Pass my budget and keep our neighborhoods safe.  \",\"\",\"And I will keep doing everything in my power to crack down on gun trafficking and ghost guns you can buy online and make at home they have no serial numbers and can t be traced. \",\"\",\"And I ask Congress to pass proven measures to reduce gun violence. Pass universal background checks. Why should anyone on a terrorist list be able to purchase a weapon? \",\"\",\"Ban assault weapons and high-capacity magazines. \",\"\",\"Repeal the liability shield that makes gun manufacturers the only industry in America that can t be sued. \",\"\",\"These laws don t infringe on the Second Amendment. They save lives. \",\"\",\"The most continue vaccinating the world.     \",\"\",\"We ve sent 475 Million vaccine doses to 112 countries, more than any other nation. \",\"\",\"And we won t stop. \",\"\",\"We have lost so much to COVID-19. Time with one another. And worst of all, so much loss of life. \",\"\",\"Let s use this moment to reset. Let s stop looking at COVID-19 as a partisan dividing line and see it for what it is: A God-awful disease.  \",\"\",\"Let s stop seeing each other as enemies, and start seeing each other for who we really are: Fellow Americans.  \",\"\",\"We can t change how divided we ve been. But we can change how we move forward on COVID-19 and other issues we must face together. \",\"\",\"I recently visited the New York City Police Department days after the funerals of Officer Wilbert Mora and his partner, Officer Jason Rivera. \",\"\",\"They were responding to a 9-1-1 call when a man shot and killed them with a stolen gun. \",\"\",\"Officer Mora was 27 years old. \",\"\",\"Officer Rivera was 22. \",\"\",\"Both Dominican Americans who d grow the economy and lower costs for families. \",\"\",\"So what are we waiting for? Let s get this done. And while you re at it, confirm my nominees to the Federal Reserve, which plays a critical role in fighting inflation.  \",\"\",\"My plan will not only lower costs to give families a fair shot, it will lower the deficit. \",\"\",\"The previous Administration not only ballooned the deficit with tax cuts for the very wealthy and corporations, it undermined the watchdogs whose job was to keep pandemic relief funds from being wasted. \",\"\",\"But in my administration, the watchdogs have been welcomed back. \",\"\",\"We re going after the criminals who stole billions in relief money meant for small businesses and millions of Americans.  \",\"\",\"And tonight, I m announcing that the Justice Department will name a chief prosecutor for pandemic fraud. \",\"\",\"By the end of this year, the deficit will be down to less than half what it was before I took office.  \",\"\",\"The only president ever to cut the deficit by who d grown up on the same streets they later chose to patrol as police officers. \",\"\",\"I spoke with their families and told them that we are forever in debt for their sacrifice, and we will carry on their mission to restore the trust and safety every community deserves. \",\"\",\"I ve worked on these issues a long time. \",\"\",\"I know what works: Investing in crime preventionand community police officers who ll walk the beat, who ll know the neighborhood, and who can restore trust and safety. \",\"\",\"So let s not abandon our streets. Or choose between safety and equal justice. \",\"\",\"Let s come together to protect our communities, restore trust, and hold law enforcement accountable. \",\"\",\"That s why the Justice Department required body cameras, banned chokeholds, and restricted no-knock warrants for its officers. \",\"\",\"That s why the American Rescue Plan provided $350 Billion that cities, states, and counties can use to hire more police and invest in proven strategies like community violence']\n"
     ]
    }
   ],
   "source": [
    "answers=[]\n",
    "contexts=[]\n",
    "for query in questions:\n",
    "    \n",
    "    \n",
    "    print(\"Query:\", query)\n",
    "    \n",
    "    answer = qa.invoke(query)\n",
    "    print(\"Answer:\", answer)\n",
    "    \n",
    "    retrieved_docs = retriever.get_relevant_documents(query)\n",
    "    \n",
    "    print(\"Retrieved Docs:\", retrieved_docs)\n",
    "    \n",
    "    context_texts = ' '.join([doc.page_content for doc in retrieved_docs])\n",
    "    print(\"Context Texts:\", [context_texts])\n",
    "    \n",
    "    answers.append(answer)\n",
    "    contexts.append(context_texts)\n"
   ]
  },
  {
   "cell_type": "code",
   "execution_count": 2,
   "id": "029f9c9e-5ac8-4daf-b553-5b923557cf20",
   "metadata": {},
   "outputs": [],
   "source": [
    "#contexts"
   ]
  },
  {
   "cell_type": "markdown",
   "id": "d9598115-b6c8-4421-9ab5-447003e54a91",
   "metadata": {},
   "source": [
    "##### Results for the given queries"
   ]
  },
  {
   "cell_type": "code",
   "execution_count": 37,
   "id": "7d90b9c6-25a7-440c-a734-5e38f3ff4877",
   "metadata": {},
   "outputs": [
    {
     "name": "stdout",
     "output_type": "stream",
     "text": [
      "[\"Last year's American Rescue Plan accomplished several things. It provided immediate economic relief for millions of Americans, helping them with food, housing, and healthcare costs. It also played a crucial role in the nation's vaccination efforts and combating the COVID-19 pandemic. Additionally, the plan created over 6.5 million new jobs, leading to significant job growth. The economy grew at a rate of 5.7%, the strongest in nearly 40 years. Overall, the American Rescue Plan aimed to address the economic challenges faced by working people and provide them with some breathing room.                                                     \", \"The president mentioned that Intel, the American company that helped build Silicon Valley, is planning to build a $20 billion semiconductor mega site. He also mentioned that Intel's CEO is ready to increase their investment from $20 billion to $100 billion, which would be one of the biggest investments in manufacturing in American history. The president urged the audience to pass a bill to support Intel's plans.                                                     \", 'The president said that he will do everything in his power to crack down on gun trafficking and ghost guns. He also asked Congress to pass measures such as universal background checks, banning assault weapons and high-capacity magazines, and repealing the liability shield for gun manufacturers. He emphasized that these laws do not infringe on the Second Amendment but rather save lives.                                                     ']\n"
     ]
    }
   ],
   "source": [
    "results = [answer['result'] + \"                                                     \" for answer in answers]\n",
    "print(results)"
   ]
  },
  {
   "cell_type": "markdown",
   "id": "dd2b797a-9f59-4690-9aeb-5c924bfe0b36",
   "metadata": {},
   "source": [
    "#### RAGAS for RAG Evaluation"
   ]
  },
  {
   "cell_type": "markdown",
   "id": "78df6ca4-40f3-482c-b289-7b673425ba3a",
   "metadata": {},
   "source": [
    "RAGAS is a powerful framework designed to evaluate the performance of Retrieval Augmented Generation (RAG) pipelines. It provides a structured approach to assessing various components of RAG systems, including the retriever and the generator.\n",
    "\n",
    "Some of the metrics are as follows:"
   ]
  },
  {
   "cell_type": "markdown",
   "id": "e75e0a7a-086a-4a00-9be8-1dd5f0cedd5a",
   "metadata": {},
   "source": [
    "**context_precision:** Measures how relevant the retrieved context is to the query.\n",
    "\n",
    "**context_recall:** Determines how much relevant information from the ground truth is covered by the retrieved context.\n",
    "\n",
    "**answer_relevancy:** Assesses how relevant the generated answer is to the given query.\n",
    "\n",
    "**faithfulness:** Evaluates how well the generated answer aligns with the information in the retrieved context.\n",
    "\n",
    "**harmfulness:** Measures the potential negative impact of the generated answer, such as toxicity or bias."
   ]
  },
  {
   "cell_type": "markdown",
   "id": "2658ea31-714a-43cc-bf12-7041b41f73d0",
   "metadata": {},
   "source": [
    "#### Set the metrics to be used and Create Dataset"
   ]
  },
  {
   "cell_type": "code",
   "execution_count": 38,
   "id": "93bc65e0-cae9-4d25-9f06-fe8d7afea994",
   "metadata": {},
   "outputs": [],
   "source": [
    "import pandas as pd\n",
    "import asyncio\n",
    "import time\n",
    "\n",
    "# Import Mertics\n",
    "\n",
    "from ragas.metrics import (\n",
    "    context_precision,\n",
    "    answer_relevancy,\n",
    "    faithfulness,\n",
    "    context_recall,\n",
    ")\n",
    "from ragas.metrics.critique import harmfulness\n",
    "\n",
    "# list of metrics we're going to use\n",
    "metrics = [\n",
    "    faithfulness,\n",
    "    answer_relevancy,\n",
    "    context_recall,\n",
    "    context_precision,\n",
    "    harmfulness,\n",
    "]\n",
    "from ragas import evaluate\n",
    "from datasets import Dataset\n",
    "\n",
    "# Sample DataFrame\n",
    "data = {\n",
    "    \"question\": questions,\n",
    "    \"answer\": results,\n",
    "    'contexts': contexts,\n",
    "    'ground_truth': ground_truths\n",
    "}\n",
    "\n",
    "df = pd.DataFrame(data)\n",
    "\n",
    "# Ensure 'contexts' is of type Sequence[string]\n",
    "df['contexts'] = df['contexts'].apply(lambda x: [x] if isinstance(x, str) else x)\n",
    "\n",
    "# Convert DataFrame to dataset format expected by Ragas\n",
    "dataset = Dataset.from_pandas(df)\n"
   ]
  },
  {
   "cell_type": "code",
   "execution_count": 39,
   "id": "3a53d027-95dd-4577-9716-e8bd15c809e8",
   "metadata": {},
   "outputs": [
    {
     "data": {
      "text/html": [
       "<div>\n",
       "<style scoped>\n",
       "    .dataframe tbody tr th:only-of-type {\n",
       "        vertical-align: middle;\n",
       "    }\n",
       "\n",
       "    .dataframe tbody tr th {\n",
       "        vertical-align: top;\n",
       "    }\n",
       "\n",
       "    .dataframe thead th {\n",
       "        text-align: right;\n",
       "    }\n",
       "</style>\n",
       "<table border=\"1\" class=\"dataframe\">\n",
       "  <thead>\n",
       "    <tr style=\"text-align: right;\">\n",
       "      <th></th>\n",
       "      <th>question</th>\n",
       "      <th>answer</th>\n",
       "      <th>contexts</th>\n",
       "      <th>ground_truth</th>\n",
       "    </tr>\n",
       "  </thead>\n",
       "  <tbody>\n",
       "    <tr>\n",
       "      <th>0</th>\n",
       "      <td>What did last year’s American Rescue Plan acco...</td>\n",
       "      <td>Last year's American Rescue Plan accomplished ...</td>\n",
       "      <td>[breathing room. \",\"\",\"And unlike the $2 Trill...</td>\n",
       "      <td>The American Rescue Plan provided economic rel...</td>\n",
       "    </tr>\n",
       "    <tr>\n",
       "      <th>1</th>\n",
       "      <td>What did the president say about Intel ?</td>\n",
       "      <td>The president mentioned that Intel, the Americ...</td>\n",
       "      <td>[won t look like much, but if you stop and loo...</td>\n",
       "      <td>The president said that Pat Gelsinger is ready...</td>\n",
       "    </tr>\n",
       "    <tr>\n",
       "      <th>2</th>\n",
       "      <td>What did the president say about gun violence?</td>\n",
       "      <td>The president said that he will do everything ...</td>\n",
       "      <td>[violence interruption trusted messengers brea...</td>\n",
       "      <td>The president asked Congress to pass proven me...</td>\n",
       "    </tr>\n",
       "  </tbody>\n",
       "</table>\n",
       "</div>"
      ],
      "text/plain": [
       "                                            question  \\\n",
       "0  What did last year’s American Rescue Plan acco...   \n",
       "1           What did the president say about Intel ?   \n",
       "2     What did the president say about gun violence?   \n",
       "\n",
       "                                              answer  \\\n",
       "0  Last year's American Rescue Plan accomplished ...   \n",
       "1  The president mentioned that Intel, the Americ...   \n",
       "2  The president said that he will do everything ...   \n",
       "\n",
       "                                            contexts  \\\n",
       "0  [breathing room. \",\"\",\"And unlike the $2 Trill...   \n",
       "1  [won t look like much, but if you stop and loo...   \n",
       "2  [violence interruption trusted messengers brea...   \n",
       "\n",
       "                                        ground_truth  \n",
       "0  The American Rescue Plan provided economic rel...  \n",
       "1  The president said that Pat Gelsinger is ready...  \n",
       "2  The president asked Congress to pass proven me...  "
      ]
     },
     "execution_count": 39,
     "metadata": {},
     "output_type": "execute_result"
    }
   ],
   "source": [
    "df "
   ]
  },
  {
   "cell_type": "code",
   "execution_count": 40,
   "id": "44ef2d6f-6838-49b0-9aa3-db02cb208b02",
   "metadata": {},
   "outputs": [
    {
     "data": {
      "text/plain": [
       "Dataset({\n",
       "    features: ['question', 'answer', 'contexts', 'ground_truth'],\n",
       "    num_rows: 3\n",
       "})"
      ]
     },
     "execution_count": 40,
     "metadata": {},
     "output_type": "execute_result"
    }
   ],
   "source": [
    "dataset"
   ]
  },
  {
   "cell_type": "markdown",
   "id": "d842b4cd-a54d-4849-9625-f3ce1f86851a",
   "metadata": {},
   "source": [
    "#### Call Evaluate Function to Evaluate the Generated Responses"
   ]
  },
  {
   "cell_type": "code",
   "execution_count": 41,
   "id": "74c566ba-be89-416d-a508-e31ccc9f1b02",
   "metadata": {},
   "outputs": [
    {
     "data": {
      "application/vnd.jupyter.widget-view+json": {
       "model_id": "ecaef5fcfce641ab9ef690a7548b5189",
       "version_major": 2,
       "version_minor": 0
      },
      "text/plain": [
       "Evaluating:   0%|          | 0/15 [00:00<?, ?it/s]"
      ]
     },
     "metadata": {},
     "output_type": "display_data"
    },
    {
     "data": {
      "text/plain": [
       "{'faithfulness': 1.0000, 'answer_relevancy': 0.6572, 'context_recall': 1.0000, 'context_precision': 1.0000, 'harmfulness': 0.0000}"
      ]
     },
     "execution_count": 41,
     "metadata": {},
     "output_type": "execute_result"
    }
   ],
   "source": [
    "result = evaluate(\n",
    "    dataset, metrics=metrics, llm=llm, embeddings=embeddings\n",
    ")\n",
    "\n",
    "result"
   ]
  },
  {
   "cell_type": "code",
   "execution_count": 42,
   "id": "78fc66a3-c43c-4455-940e-423030733fd4",
   "metadata": {},
   "outputs": [
    {
     "data": {
      "text/html": [
       "<div>\n",
       "<style scoped>\n",
       "    .dataframe tbody tr th:only-of-type {\n",
       "        vertical-align: middle;\n",
       "    }\n",
       "\n",
       "    .dataframe tbody tr th {\n",
       "        vertical-align: top;\n",
       "    }\n",
       "\n",
       "    .dataframe thead th {\n",
       "        text-align: right;\n",
       "    }\n",
       "</style>\n",
       "<table border=\"1\" class=\"dataframe\">\n",
       "  <thead>\n",
       "    <tr style=\"text-align: right;\">\n",
       "      <th></th>\n",
       "      <th>question</th>\n",
       "      <th>answer</th>\n",
       "      <th>contexts</th>\n",
       "      <th>ground_truth</th>\n",
       "      <th>faithfulness</th>\n",
       "      <th>answer_relevancy</th>\n",
       "      <th>context_recall</th>\n",
       "      <th>context_precision</th>\n",
       "      <th>harmfulness</th>\n",
       "    </tr>\n",
       "  </thead>\n",
       "  <tbody>\n",
       "    <tr>\n",
       "      <th>0</th>\n",
       "      <td>What did last year’s American Rescue Plan acco...</td>\n",
       "      <td>Last year's American Rescue Plan accomplished ...</td>\n",
       "      <td>[breathing room. \",\"\",\"And unlike the $2 Trill...</td>\n",
       "      <td>The American Rescue Plan provided economic rel...</td>\n",
       "      <td>1.0</td>\n",
       "      <td>0.863160</td>\n",
       "      <td>1.0</td>\n",
       "      <td>1.0</td>\n",
       "      <td>0</td>\n",
       "    </tr>\n",
       "    <tr>\n",
       "      <th>1</th>\n",
       "      <td>What did the president say about Intel ?</td>\n",
       "      <td>The president mentioned that Intel, the Americ...</td>\n",
       "      <td>[won t look like much, but if you stop and loo...</td>\n",
       "      <td>The president said that Pat Gelsinger is ready...</td>\n",
       "      <td>1.0</td>\n",
       "      <td>0.384568</td>\n",
       "      <td>1.0</td>\n",
       "      <td>1.0</td>\n",
       "      <td>0</td>\n",
       "    </tr>\n",
       "    <tr>\n",
       "      <th>2</th>\n",
       "      <td>What did the president say about gun violence?</td>\n",
       "      <td>The president said that he will do everything ...</td>\n",
       "      <td>[violence interruption trusted messengers brea...</td>\n",
       "      <td>The president asked Congress to pass proven me...</td>\n",
       "      <td>1.0</td>\n",
       "      <td>0.723960</td>\n",
       "      <td>1.0</td>\n",
       "      <td>1.0</td>\n",
       "      <td>0</td>\n",
       "    </tr>\n",
       "  </tbody>\n",
       "</table>\n",
       "</div>"
      ],
      "text/plain": [
       "                                            question  \\\n",
       "0  What did last year’s American Rescue Plan acco...   \n",
       "1           What did the president say about Intel ?   \n",
       "2     What did the president say about gun violence?   \n",
       "\n",
       "                                              answer  \\\n",
       "0  Last year's American Rescue Plan accomplished ...   \n",
       "1  The president mentioned that Intel, the Americ...   \n",
       "2  The president said that he will do everything ...   \n",
       "\n",
       "                                            contexts  \\\n",
       "0  [breathing room. \",\"\",\"And unlike the $2 Trill...   \n",
       "1  [won t look like much, but if you stop and loo...   \n",
       "2  [violence interruption trusted messengers brea...   \n",
       "\n",
       "                                        ground_truth  faithfulness  \\\n",
       "0  The American Rescue Plan provided economic rel...           1.0   \n",
       "1  The president said that Pat Gelsinger is ready...           1.0   \n",
       "2  The president asked Congress to pass proven me...           1.0   \n",
       "\n",
       "   answer_relevancy  context_recall  context_precision  harmfulness  \n",
       "0          0.863160             1.0                1.0            0  \n",
       "1          0.384568             1.0                1.0            0  \n",
       "2          0.723960             1.0                1.0            0  "
      ]
     },
     "execution_count": 42,
     "metadata": {},
     "output_type": "execute_result"
    }
   ],
   "source": [
    "df = result.to_pandas()\n",
    "df.head()"
   ]
  },
  {
   "cell_type": "markdown",
   "id": "21fe118b-7dee-4cb8-a0f8-292ca9d6a1e9",
   "metadata": {},
   "source": [
    "**Inference:** The evaluation shows high faithfulness (1.0) and perfect context recall and precision (1.0) across all QA pairs. Answer relevancy varies, with the American Rescue Plan question scoring highest (0.863160). All answers are free from harmful content, with the lowest relevancy score for the Intel question (0.384568)."
   ]
  },
  {
   "cell_type": "code",
   "execution_count": null,
   "id": "daab5979-d81b-4d7b-9cd7-04f6c9b27007",
   "metadata": {},
   "outputs": [],
   "source": []
  },
  {
   "cell_type": "markdown",
   "id": "5fb97ccd-f948-4938-ab42-c320c9306066",
   "metadata": {},
   "source": [
    "# APPENDIX"
   ]
  },
  {
   "cell_type": "markdown",
   "id": "4d6f3aca-927c-4759-bdf9-8395f8da8078",
   "metadata": {},
   "source": [
    "### RAG Evaluation with amnesty_qa\n",
    "\n",
    "The explodinggradients/amnesty_qa dataset is available on Hugging Face and is designed for evaluating question-answering (QA) systems, focusing on human rights and ethical considerations. It provides a set of question-answer pairs that are particularly useful for assessing QA models in contexts related to these themes."
   ]
  },
  {
   "cell_type": "code",
   "execution_count": 317,
   "id": "afd1972b-a1bd-442e-9545-491d0c2dce25",
   "metadata": {},
   "outputs": [
    {
     "name": "stderr",
     "output_type": "stream",
     "text": [
      "Repo card metadata block was not found. Setting CardData to empty.\n"
     ]
    }
   ],
   "source": [
    "# data\n",
    "from datasets import load_dataset\n",
    "\n",
    "amnesty_qa = load_dataset(\"explodinggradients/amnesty_qa\", \"english_v2\",trust_remote_code=True)\n",
    "#amnesty_qa"
   ]
  },
  {
   "cell_type": "code",
   "execution_count": 196,
   "id": "bc79d61b-6c63-4188-bccc-4db4830db853",
   "metadata": {},
   "outputs": [
    {
     "name": "stdout",
     "output_type": "stream",
     "text": [
      "DatasetDict({\n",
      "    eval: Dataset({\n",
      "        features: ['question', 'ground_truth', 'answer', 'contexts'],\n",
      "        num_rows: 20\n",
      "    })\n",
      "})\n"
     ]
    }
   ],
   "source": [
    "print(amnesty_qa)"
   ]
  },
  {
   "cell_type": "code",
   "execution_count": 198,
   "id": "d82753df-083f-4bb9-81ff-33145a7db970",
   "metadata": {},
   "outputs": [],
   "source": [
    "import os\n",
    "\n",
    "#assuming you already have you key available via your environment variable. If not use this\n",
    "os.environ[\"AZURE_OPENAI_API_KEY\"] = \"API KEY\""
   ]
  },
  {
   "cell_type": "code",
   "execution_count": 199,
   "id": "4ac0e0f0-1f73-4f75-ab5b-95783670674a",
   "metadata": {},
   "outputs": [],
   "source": [
    "from langchain_openai import AzureChatOpenAI\n",
    "\n",
    "llm = AzureChatOpenAI(\n",
    "    azure_deployment=\"gpt35turbo16kdeployment\",\n",
    "    api_version=\"2024-05-01-preview\",\n",
    "    api_key=\"---------------------\",\n",
    "    temperature=0,\n",
    "    max_tokens=None,\n",
    "    timeout=None,\n",
    "    max_retries=2,\n",
    "    # other params...\n",
    ")"
   ]
  },
  {
   "cell_type": "code",
   "execution_count": 200,
   "id": "66dea8df-c27b-4138-a413-b0c69d4030ab",
   "metadata": {},
   "outputs": [],
   "source": [
    "from ragas.metrics import (\n",
    "    context_precision,\n",
    "    answer_relevancy,\n",
    "    faithfulness,\n",
    "    context_recall,\n",
    ")\n",
    "from ragas.metrics.critique import harmfulness\n",
    "\n",
    "# list of metrics we're going to use\n",
    "metrics = [\n",
    "    faithfulness,\n",
    "    answer_relevancy,\n",
    "    context_recall,\n",
    "    context_precision,\n",
    "    harmfulness,\n",
    "]"
   ]
  },
  {
   "cell_type": "code",
   "execution_count": 201,
   "id": "299a5c4c-49c2-4437-abb3-31dd130f7b1f",
   "metadata": {},
   "outputs": [
    {
     "data": {
      "application/vnd.jupyter.widget-view+json": {
       "model_id": "d30f42b34d4744feaaf1b4ce28a172a8",
       "version_major": 2,
       "version_minor": 0
      },
      "text/plain": [
       "Evaluating:   0%|          | 0/100 [00:00<?, ?it/s]"
      ]
     },
     "metadata": {},
     "output_type": "display_data"
    },
    {
     "data": {
      "text/plain": [
       "{'faithfulness': 0.5574, 'answer_relevancy': 0.9250, 'context_recall': 0.8851, 'context_precision': 0.9458, 'harmfulness': 0.0000}"
      ]
     },
     "execution_count": 201,
     "metadata": {},
     "output_type": "execute_result"
    }
   ],
   "source": [
    "result = evaluate(\n",
    "    amnesty_qa[\"eval\"], metrics=metrics, llm=llm, embeddings=embeddings\n",
    ")\n",
    "\n",
    "result"
   ]
  },
  {
   "cell_type": "code",
   "execution_count": 192,
   "id": "dfbbbb03-499f-46b3-837e-31eedec0e2f0",
   "metadata": {},
   "outputs": [
    {
     "data": {
      "text/html": [
       "<div>\n",
       "<style scoped>\n",
       "    .dataframe tbody tr th:only-of-type {\n",
       "        vertical-align: middle;\n",
       "    }\n",
       "\n",
       "    .dataframe tbody tr th {\n",
       "        vertical-align: top;\n",
       "    }\n",
       "\n",
       "    .dataframe thead th {\n",
       "        text-align: right;\n",
       "    }\n",
       "</style>\n",
       "<table border=\"1\" class=\"dataframe\">\n",
       "  <thead>\n",
       "    <tr style=\"text-align: right;\">\n",
       "      <th></th>\n",
       "      <th>question</th>\n",
       "      <th>ground_truth</th>\n",
       "      <th>answer</th>\n",
       "      <th>contexts</th>\n",
       "      <th>faithfulness</th>\n",
       "      <th>answer_relevancy</th>\n",
       "      <th>context_recall</th>\n",
       "      <th>context_precision</th>\n",
       "      <th>harmfulness</th>\n",
       "    </tr>\n",
       "  </thead>\n",
       "  <tbody>\n",
       "    <tr>\n",
       "      <th>0</th>\n",
       "      <td>What are the global implications of the USA Su...</td>\n",
       "      <td>The global implications of the USA Supreme Cou...</td>\n",
       "      <td>The global implications of the USA Supreme Cou...</td>\n",
       "      <td>[- In 2022, the USA Supreme Court handed down ...</td>\n",
       "      <td>0.782609</td>\n",
       "      <td>0.985554</td>\n",
       "      <td>1.0</td>\n",
       "      <td>1.000000</td>\n",
       "      <td>0</td>\n",
       "    </tr>\n",
       "    <tr>\n",
       "      <th>1</th>\n",
       "      <td>Which companies are the main contributors to G...</td>\n",
       "      <td>According to the Carbon Majors database, the m...</td>\n",
       "      <td>According to the Carbon Majors database, the m...</td>\n",
       "      <td>[In recent years, there has been increasing pr...</td>\n",
       "      <td>0.375000</td>\n",
       "      <td>0.871604</td>\n",
       "      <td>1.0</td>\n",
       "      <td>1.000000</td>\n",
       "      <td>0</td>\n",
       "    </tr>\n",
       "    <tr>\n",
       "      <th>2</th>\n",
       "      <td>Which private companies in the Americas are th...</td>\n",
       "      <td>The largest private companies in the Americas ...</td>\n",
       "      <td>According to the Carbon Majors database, the l...</td>\n",
       "      <td>[The issue of greenhouse gas emissions has bec...</td>\n",
       "      <td>0.000000</td>\n",
       "      <td>0.990155</td>\n",
       "      <td>1.0</td>\n",
       "      <td>0.833333</td>\n",
       "      <td>0</td>\n",
       "    </tr>\n",
       "    <tr>\n",
       "      <th>3</th>\n",
       "      <td>What action did Amnesty International urge its...</td>\n",
       "      <td>Amnesty International urged its supporters to ...</td>\n",
       "      <td>Amnesty International urged its supporters to ...</td>\n",
       "      <td>[In the case of the Ogoni 9, Amnesty Internati...</td>\n",
       "      <td>0.600000</td>\n",
       "      <td>0.773574</td>\n",
       "      <td>1.0</td>\n",
       "      <td>1.000000</td>\n",
       "      <td>0</td>\n",
       "    </tr>\n",
       "    <tr>\n",
       "      <th>4</th>\n",
       "      <td>What are the recommendations made by Amnesty I...</td>\n",
       "      <td>The recommendations made by Amnesty Internatio...</td>\n",
       "      <td>Amnesty International made several recommendat...</td>\n",
       "      <td>[In recent years, Amnesty International has fo...</td>\n",
       "      <td>0.650000</td>\n",
       "      <td>0.988373</td>\n",
       "      <td>1.0</td>\n",
       "      <td>1.000000</td>\n",
       "      <td>0</td>\n",
       "    </tr>\n",
       "  </tbody>\n",
       "</table>\n",
       "</div>"
      ],
      "text/plain": [
       "                                            question  \\\n",
       "0  What are the global implications of the USA Su...   \n",
       "1  Which companies are the main contributors to G...   \n",
       "2  Which private companies in the Americas are th...   \n",
       "3  What action did Amnesty International urge its...   \n",
       "4  What are the recommendations made by Amnesty I...   \n",
       "\n",
       "                                        ground_truth  \\\n",
       "0  The global implications of the USA Supreme Cou...   \n",
       "1  According to the Carbon Majors database, the m...   \n",
       "2  The largest private companies in the Americas ...   \n",
       "3  Amnesty International urged its supporters to ...   \n",
       "4  The recommendations made by Amnesty Internatio...   \n",
       "\n",
       "                                              answer  \\\n",
       "0  The global implications of the USA Supreme Cou...   \n",
       "1  According to the Carbon Majors database, the m...   \n",
       "2  According to the Carbon Majors database, the l...   \n",
       "3  Amnesty International urged its supporters to ...   \n",
       "4  Amnesty International made several recommendat...   \n",
       "\n",
       "                                            contexts  faithfulness  \\\n",
       "0  [- In 2022, the USA Supreme Court handed down ...      0.782609   \n",
       "1  [In recent years, there has been increasing pr...      0.375000   \n",
       "2  [The issue of greenhouse gas emissions has bec...      0.000000   \n",
       "3  [In the case of the Ogoni 9, Amnesty Internati...      0.600000   \n",
       "4  [In recent years, Amnesty International has fo...      0.650000   \n",
       "\n",
       "   answer_relevancy  context_recall  context_precision  harmfulness  \n",
       "0          0.985554             1.0           1.000000            0  \n",
       "1          0.871604             1.0           1.000000            0  \n",
       "2          0.990155             1.0           0.833333            0  \n",
       "3          0.773574             1.0           1.000000            0  \n",
       "4          0.988373             1.0           1.000000            0  "
      ]
     },
     "execution_count": 192,
     "metadata": {},
     "output_type": "execute_result"
    }
   ],
   "source": [
    "df = result.to_pandas()\n",
    "df.head()"
   ]
  },
  {
   "cell_type": "code",
   "execution_count": 202,
   "id": "d79aed97-1d75-4df8-8b1d-4ece7cba3bce",
   "metadata": {},
   "outputs": [],
   "source": [
    "df.to_csv(\"Eval_Results.csv\")"
   ]
  }
 ],
 "metadata": {
  "kernelspec": {
   "display_name": "Python 3 (ipykernel)",
   "language": "python",
   "name": "python3"
  },
  "language_info": {
   "codemirror_mode": {
    "name": "ipython",
    "version": 3
   },
   "file_extension": ".py",
   "mimetype": "text/x-python",
   "name": "python",
   "nbconvert_exporter": "python",
   "pygments_lexer": "ipython3",
   "version": "3.11.4"
  }
 },
 "nbformat": 4,
 "nbformat_minor": 5
}
